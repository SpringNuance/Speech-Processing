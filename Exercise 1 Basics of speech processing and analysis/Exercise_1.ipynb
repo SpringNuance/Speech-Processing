{
 "cells": [
  {
   "cell_type": "markdown",
   "id": "3ea1340c",
   "metadata": {},
   "source": [
    "#  ELEC-E5500 Speech Processing -- Autumn 2023  \n",
    "\n",
    "###  Exercise 1: Basics of speech processing and analysis."
   ]
  },
  {
   "cell_type": "markdown",
   "id": "4714cc88",
   "metadata": {},
   "source": [
    "Instructions: \n",
    "\n",
    "1. Implement and return files as Exercise_1_yourfirstname.ipynb along with your speech file.\n",
    "\n",
    "2. Return your answers to MyCourses by 23:59 on Monday, September 11th, 2023."
   ]
  },
  {
   "cell_type": "markdown",
   "id": "dc3817b7",
   "metadata": {},
   "source": [
    "## Introduction"
   ]
  },
  {
   "cell_type": "markdown",
   "id": "eb14ede3",
   "metadata": {},
   "source": [
    "The goal of this exercise is to get acquainted with the basics of speech processing. This includes recording, reading, resampling, windowing, and computing magnitude spectrum and spectrogram along with visualizations.\n",
    "\n",
    "\n",
    "For most of the exercises, you will work with your own speech file \"yourfirstname.wav\". Record the speech signal as \"Hello. This is a sound example by XX\", (e.g., XX --> Mohammad Vali) then store the file as \"firstname.wav\" (i.e., Mohammad.wav\").\n",
    "\n",
    "\n",
    "We will be using sampling frequency of $F_s=16~kHz$. If not, resample the speech signal to the desired frequency ($F_s=16~kHz$)."
   ]
  },
  {
   "cell_type": "markdown",
   "id": "190af277",
   "metadata": {},
   "source": [
    "### If you are not familiar with the python programming, you can find some useful links below.\n",
    "\n",
    "1. Free courses on Udemy website: [Learn Python for Total Beginners](https://www.udemy.com/course/python-3-for-total-beginners/), and [Python for Absolute Beginners!](https://www.udemy.com/course/free-python/).\n",
    "\n",
    "2. Materials on different websties: [python.org](https://www.python.org/about/gettingstarted/), [kaggle.com](https://www.kaggle.com/learn/python), [tutorialspoint.com](https://www.tutorialspoint.com/python/index.htm), and [w3schools.com](https://www.w3schools.com/python/default.asp)\n",
    "\n",
    "3. Some other courses on [coursera.org](https://www.coursera.org/search?query=python+programming&productDifficultyLevel=Beginner&productDuration=1-4+Weeks&language=English&productTypeDescription=Courses&=null) (it seems there is no free course here! Please double check!)"
   ]
  },
  {
   "cell_type": "markdown",
   "id": "e492e9e5",
   "metadata": {},
   "source": [
    "## For this exercise, you need the following packages from Python: \n",
    "#### scipy\n",
    "#### numpy \n",
    "#### matplotlib\n",
    "#### sounddevice\n",
    "\n",
    "### If these are not installed, please install them."
   ]
  },
  {
   "cell_type": "markdown",
   "id": "50bb3e9b",
   "metadata": {},
   "source": [
    "If you do not have a *conda* environment, you can create a *conda* environment (using python version 3.8 named \"speechprocessing\") by using the following command in the command-line (terminal window)\n",
    "\n",
    "    conda create --name speechprocessing python=3.8\n",
    "\n",
    "Then you need to activate the environment by this command\n",
    "\n",
    "    conda activate speechprocessing\n",
    "\n",
    "\n",
    "Now, you only need to install the required packages using the following command in the command-line\n",
    "\n",
    "    conda install scipy numpy matplotlib sounddevice\n",
    "    \n",
    "Otherwise and in case of doubt, you can use these commands\n",
    "\n",
    "    pip install scipy\n",
    "    pip install numpy\n",
    "    pip install matplotlib\n",
    "    pip install sounddevice\n",
    "\n",
    "If you already have an existing *conda* environment, you only need to activate the environment and install the required packages using the above-mentioned commands.\n",
    "\n",
    "You can get more information about managing *conda* environments [here](https://conda.io/projects/conda/en/latest/user-guide/tasks/manage-environments.html)."
   ]
  },
  {
   "cell_type": "markdown",
   "id": "5b70c677",
   "metadata": {},
   "source": [
    "## Import all the required packages"
   ]
  },
  {
   "cell_type": "code",
   "execution_count": 1,
   "id": "e4c190c8",
   "metadata": {},
   "outputs": [],
   "source": [
    "import scipy.io.wavfile as wav\n",
    "import scipy.signal as sig\n",
    "import numpy as np\n",
    "import matplotlib.pyplot as plt\n",
    "import sounddevice as sd\n",
    "from scipy.io import wavfile\n",
    "\n",
    "# Ignore warnings\n",
    "import warnings\n",
    "warnings.filterwarnings('ignore')"
   ]
  },
  {
   "cell_type": "markdown",
   "id": "cb4b3a07",
   "metadata": {},
   "source": [
    "# Let's learn some basics"
   ]
  },
  {
   "cell_type": "markdown",
   "id": "af7b2d62",
   "metadata": {},
   "source": [
    "The objective of this part is to acquaint yourself with the process of recording, reading, playing, writing, and resampling."
   ]
  },
  {
   "cell_type": "markdown",
   "id": "09500767",
   "metadata": {},
   "source": [
    "## Basic operations for speech sounds\n",
    "\n",
    "Before going to the exercise in this notebook, let's first learn the basic operations which we use to handle sounds. That is, we want to be able to record sounds, play sounds, as well as read and write sounds to and from the storage. Importantly, we will also visualize the sounds by plotting. \n",
    "\n",
    "## Recording and playing a sound\n",
    "To get things started, let us record a sound from the microphone. If you have problems with the library *sounddevice*, try some [other library](https://realpython.com/playing-and-recording-sound-python/).\n",
    "Note that the code below will record a sound from your microphone and then play it. To get a useful sound for your explorations, it is useful to say something when it records."
   ]
  },
  {
   "cell_type": "code",
   "execution_count": 3,
   "id": "64815bac",
   "metadata": {},
   "outputs": [],
   "source": [
    "fs = 44100  # Sample rate/sampling frequency\n",
    "seconds = 4  # Duration of recording\n",
    "\n",
    "# Record 4 seconds of your speech (i.e,, Hello. This is a sound example by XX)\n",
    "data = sd.rec(int(seconds * fs), samplerate=fs, channels=1)\n",
    "sd.wait()  # Wait until recording is finished"
   ]
  },
  {
   "cell_type": "code",
   "execution_count": 4,
   "id": "89ac7b5c",
   "metadata": {},
   "outputs": [],
   "source": [
    "# Play the recording\n",
    "sd.play(data, fs)\n",
    "sd.wait()  # Wait until file is done playing"
   ]
  },
  {
   "cell_type": "markdown",
   "id": "ebd16f3a",
   "metadata": {},
   "source": [
    "## Analyzing the data\n",
    "Check the shape of the data."
   ]
  },
  {
   "cell_type": "code",
   "execution_count": 5,
   "id": "d465350a",
   "metadata": {},
   "outputs": [
    {
     "data": {
      "text/plain": [
       "(176400, 1)"
      ]
     },
     "execution_count": 5,
     "metadata": {},
     "output_type": "execute_result"
    }
   ],
   "source": [
    "data.shape"
   ]
  },
  {
   "cell_type": "markdown",
   "id": "1eb65a84",
   "metadata": {},
   "source": [
    "The first dimension is the length of the sound in samples. Since we chose to use a sampling rate of fs=44.1kHz, we have 44100 samples per second, such that 176400 samples = 4 secs x 44100 samples/sec corresponds to 4 seconds.\n",
    "The second dimension is the number of channels, where 1 is a mono signal and 2 is stereo. "
   ]
  },
  {
   "cell_type": "markdown",
   "id": "a7666110",
   "metadata": {},
   "source": [
    "## Resampling"
   ]
  },
  {
   "cell_type": "markdown",
   "id": "66c88bfd",
   "metadata": {},
   "source": [
    "Resample the sampling frequency to $F_s$ (e.g., $F_s=16~kHz$)"
   ]
  },
  {
   "cell_type": "code",
   "execution_count": 6,
   "id": "f2e1bb13",
   "metadata": {},
   "outputs": [],
   "source": [
    "Fs_target=16000\n",
    "\n",
    "\n",
    "if not (fs == Fs_target):\n",
    "    data = sig.resample_poly(data,Fs_target,fs)\n",
    "    fs = Fs_target"
   ]
  },
  {
   "cell_type": "code",
   "execution_count": 7,
   "id": "894f39a6",
   "metadata": {},
   "outputs": [
    {
     "data": {
      "text/plain": [
       "(64000, 1)"
      ]
     },
     "execution_count": 7,
     "metadata": {},
     "output_type": "execute_result"
    }
   ],
   "source": [
    "data.shape"
   ]
  },
  {
   "cell_type": "markdown",
   "id": "a8d8e5e7",
   "metadata": {},
   "source": [
    "The sound file now has 64000 samples since we are sampling it with 16KHz, i.e. 64000 = 4secs x 16000 samples/sec."
   ]
  },
  {
   "cell_type": "markdown",
   "id": "ddd0fbf4",
   "metadata": {},
   "source": [
    "## Writing to storage and reading"
   ]
  },
  {
   "cell_type": "code",
   "execution_count": 8,
   "id": "f1ed5ebe",
   "metadata": {},
   "outputs": [],
   "source": [
    "filename = 'Mohammad.wav'\n",
    "# write to storage\n",
    "wavfile.write(filename, fs, data)\n",
    "\n",
    "# remove data, such that we can read it again\n",
    "del data\n",
    "\n",
    "# read from storage\n",
    "fs, data = wavfile.read(filename)\n",
    "\n",
    "# Play to check that we recovered it\n",
    "sd.play(data, fs)\n",
    "sd.wait()"
   ]
  },
  {
   "cell_type": "markdown",
   "id": "449a5f8a",
   "metadata": {},
   "source": [
    "## Plotting the speech signal\n"
   ]
  },
  {
   "cell_type": "markdown",
   "id": "0b1effae",
   "metadata": {},
   "source": [
    "Often, recordings have unwanted sounds at the beginning and at the end, so it makes sense to trim it to only the intended part of the recording. We will first plot the data to see if it \"looks good\" before trimming it, such that the data does not disappear. At the same time, we can remove the second channel, since here we will focus on mono signals. Here you'll need to change the parameters to match your own data."
   ]
  },
  {
   "cell_type": "code",
   "execution_count": 9,
   "id": "576f2b81",
   "metadata": {},
   "outputs": [
    {
     "data": {
      "image/png": "[encoded data removed]",
      "text/plain": [
       "<Figure size 640x480 with 1 Axes>"
      ]
     },
     "metadata": {},
     "output_type": "display_data"
    }
   ],
   "source": [
    "plt.plot(data)\n",
    "plt.show()"
   ]
  },
  {
   "cell_type": "markdown",
   "id": "74503980",
   "metadata": {},
   "source": [
    "If there are any problems at the start or end of the file, like sudden spikes like keyboard or mouse clicks, remove them here and then write the file again."
   ]
  },
  {
   "cell_type": "code",
   "execution_count": 12,
   "id": "3b42cf87",
   "metadata": {},
   "outputs": [
    {
     "data": {
      "image/png": "[encoded data removed]",
      "text/plain": [
       "<Figure size 640x480 with 1 Axes>"
      ]
     },
     "metadata": {},
     "output_type": "display_data"
    }
   ],
   "source": [
    "# choose the start_index and end_index manually to trim your soundfile\n",
    "start_index = 8000\n",
    "end_index = 60000\n",
    "data1 = data[start_index:end_index]\n",
    "plt.plot(data1)\n",
    "plt.show()"
   ]
  },
  {
   "cell_type": "code",
   "execution_count": 13,
   "id": "18c692dc",
   "metadata": {},
   "outputs": [],
   "source": [
    "wavfile.write(filename, fs, data1)"
   ]
  },
  {
   "cell_type": "markdown",
   "id": "5f4fdf3b",
   "metadata": {},
   "source": [
    "# With these basics, let's start the exercise 1."
   ]
  },
  {
   "cell_type": "code",
   "execution_count": 14,
   "id": "bb74db54",
   "metadata": {},
   "outputs": [],
   "source": [
    "# Read the audio file and sampling rate\n",
    "\n",
    "Fs, data = wavfile.read(filename)\n",
    "\n",
    "# Make sure the sampling rate is 16kHz. Resample if not 16 kHz\n",
    "Fs_target=16000\n",
    "\n",
    "\n",
    "if not (Fs == Fs_target):\n",
    "    data = sig.resample_poly(data,Fs_target,Fs)\n",
    "    Fs = Fs_target"
   ]
  },
  {
   "cell_type": "markdown",
   "id": "c2d91e5c",
   "metadata": {},
   "source": [
    "## Windowing"
   ]
  },
  {
   "cell_type": "markdown",
   "id": "e549216b",
   "metadata": {},
   "source": [
    "Write a windowing function which takes the data, window length (frame length, in samples), hop size (in samples), and the type of window function as input and results in an output matrix of dimension $n\\times m$, where $n$ corresponds to the frame length and $m$ corresponds to the number of frames. The first frame starts at the beginning of the data.\n",
    "\n",
    "We will use a frame length of 25ms, with 50\\% overlap. The basic window types should be rectangular, Hann, Hamming, Cosine (square root of Hann) window types.\n",
    "\n",
    "In the windowing function, to implement framing itself, first compute the number of frames for the signal under consideration using this formula:\n",
    "\n",
    "\\begin{equation}\n",
    "\\text{number of frames} = 1 + floor \\{\\frac{(n-k)}{o}\\},\n",
    "\\end{equation}\n",
    "\n",
    "where $n=\\text{data length}$ in samples, $k=\\text{frame length}$ in samples, and $o=\\text{overlap}$ in samples.\n",
    "\n",
    "Following this, segment the data with right frame size and overlap and remember to apply the chosen window function to the generated signal frames. Note, if the end sample of the frame segment is larger than the data length, zero-pad the data (with the remainder) to achieve constant frame length.\n"
   ]
  },
  {
   "cell_type": "markdown",
   "id": "675c18e7",
   "metadata": {},
   "source": [
    "## Useful functions (all from numpy library)\n"
   ]
  },
  {
   "cell_type": "markdown",
   "id": "0629f4de",
   "metadata": {},
   "source": [
    "ones, hanning, hamming, sqrt, zeros, floor"
   ]
  },
  {
   "cell_type": "code",
   "execution_count": 15,
   "id": "afa1b9a1",
   "metadata": {},
   "outputs": [],
   "source": [
    "# Split the data sequence into windows. Implement the windowing (below cell)\n",
    "\n",
    "frame_length_ms = 25 # in miliseconds\n",
    "hop_length_ms = 12.5 # in miliseconds\n",
    "\n",
    "frame_length = int(np.around((frame_length_ms/1000)*Fs))# 25ms in samples\n",
    "hop_size = int(np.around((hop_length_ms/1000)*Fs))# 12.5 ms (25/2 ms) in samples (50% overlap)\n",
    "window_types = ('rect','hann','cosine','hamming')"
   ]
  },
  {
   "cell_type": "code",
   "execution_count": null,
   "id": "c8f0c739",
   "metadata": {},
   "outputs": [],
   "source": [
    "## Note: This will be used in the future exercises as well.\n",
    "\n",
    "def windowing(data, frame_length, hop_size, windowing_function):\n",
    "    data = np.array(data)\n",
    "    number_of_frames = #Implement this  #Calculate the number of frames using the above-mentioned formula \n",
    "    frame_matrix = np.zeros((frame_length,number_of_frames))\n",
    "\n",
    "    if windowing_function == 'rect':\n",
    "        window = None # Implement this\n",
    "    elif windowing_function == 'hann':\n",
    "        window = None # Implement this\n",
    "    elif windowing_function == 'cosine':\n",
    "        window = None # Implement this\n",
    "    elif windowing_function == 'hamming':\n",
    "        window = None # Implement this\n",
    "    else:\n",
    "        os.error('Windowing function not supported')\n",
    "        \n",
    "    ## Copy each frame segment from data to the corresponding column of frame_matrix.\n",
    "    ## If the end sample of the frame segment is larger than data length,\n",
    "    ## zero-pad the remainder to achieve constant frame length.\n",
    "    ## Remember to apply the chosen windowing function to the frame!\n",
    "    \n",
    "    for i in range(number_of_frames):\n",
    "        frame = np.zeros(frame_length) # Initialize frame as zeroes\n",
    "   \n",
    "        # Implement the rest here! \n",
    "   \n",
    "        frame_matrix[:,i] = frame   # Copy frame to frame_matrix\n",
    "    return frame_matrix"
   ]
  },
  {
   "cell_type": "markdown",
   "id": "32aca56e",
   "metadata": {},
   "source": [
    "### WINDOWING: Based on the input parameters, generate a n x m matrix of windowed frames, with 'n' corresponding to the frame_length (in samples) and 'm' corresponding to the number of frames. "
   ]
  },
  {
   "cell_type": "code",
   "execution_count": null,
   "id": "3822456a",
   "metadata": {},
   "outputs": [],
   "source": [
    "frame_matrix = windowing(data, frame_length, hop_size, window_types[3])# Windowing"
   ]
  },
  {
   "cell_type": "code",
   "execution_count": null,
   "id": "c59c205b",
   "metadata": {},
   "outputs": [],
   "source": [
    "print(frame_matrix.shape)"
   ]
  },
  {
   "cell_type": "markdown",
   "id": "b117bef8",
   "metadata": {},
   "source": [
    "## How many frames are there and what is the frame length in samples? [write your answer]\n",
    "\n",
    "Number of frames= ??\n",
    "\n",
    "Frame length in samples= ??"
   ]
  },
  {
   "cell_type": "markdown",
   "id": "1f970cf0",
   "metadata": {},
   "source": [
    "# Plotting: speech signal, voiced frame and magnitude spectrum"
   ]
  },
  {
   "cell_type": "markdown",
   "id": "50ef4283",
   "metadata": {},
   "source": [
    "Visualization and plotting is an important step in not only evalution of methods but also in debugging and finding out problems with the methods. In this section, we will introduce some of the most common plotting and visualization schemes used in speech processing."
   ]
  },
  {
   "cell_type": "markdown",
   "id": "0cad6c26",
   "metadata": {},
   "source": [
    "In the first figure (Figure 1), we shall plot the original speech signal (Subplot 1), a voiced frame in the time domain (Subplot 2), and the same voiced frame in the frequency domain (Subplot 3). It is important to make note of the plot axes. Divide the figure into 3 subplots, vertically. In the top-most subplot, plot the time domain original signal; the x-axis should be in seconds. In the middle subplot, plot the time domain signal of a voiced frame of your choice. Make sure that the x-axis is in milli-seconds. In the last subplot, plot the first half of the magnitude spectrum of the same voiced frame (i.e., from 0 Hz to Nyquist frequency); represent x-axis as Hz, and y-axis as decibels.\n",
    "\n",
    "In the second part of this section (Figure 2), we will compute and plot the signal spectrogram. The x-axis should represent time (eitehr in frame numbers or in sec) and the y-axis should represent frequency.\n",
    "\n",
    "For all the plots, label the axes and titles with appropriate strings."
   ]
  },
  {
   "cell_type": "markdown",
   "id": "dc4728ca",
   "metadata": {},
   "source": [
    "## Useful functions (matplotlib)"
   ]
  },
  {
   "cell_type": "markdown",
   "id": "fe518c8a",
   "metadata": {},
   "source": [
    "figure, subplot, plot, title, xlabel, ylabel, autoscale, imshow, yticks\n",
    "\n",
    "**For taking the Fourier transform, we recommend to use np.fft.rfft by n=1024 (n is the number of points to sample from input data to compute the transformation)**"
   ]
  },
  {
   "cell_type": "code",
   "execution_count": null,
   "id": "23021db5",
   "metadata": {},
   "outputs": [],
   "source": [
    "# Figure 1: Create a new figure with three subplots.\n",
    "# fig, axes = plt.subplots(nrows=3, ncols=1, figsize=(12, 12))\n",
    "# fig.tight_layout()\n",
    "\n",
    "\n",
    "\n",
    "plt.figure(1)\n",
    "## Plot the whole signal into subplot 1. Denote x-axis as time in seconds and y-axis as Amplitude.\n",
    "### Set appropriate strings to title, xlabel and ylabel\n",
    "plt.subplot(3,1,1)\n",
    "# Implement this\n",
    "\n",
    "    \n",
    "## Plot a VOICED frame from frame_matrix into subplot 2. Denote x-axis as milliseconds and y-axis as Amplitude.\n",
    "### Set appropriate strings to title, xlabel and ylabel\n",
    "plt.subplot(3,1,2)\n",
    "# Implement this\n",
    "    \n",
    "\n",
    "## Plot the magnitude spectrum of the same frame as in subplot 2. into subplot 3. Denote x-axis as Hz, and y-axis as decibels.\n",
    "### Set appropriate strings to title, xlabel and ylabel\n",
    "plt.subplot(3,1,3)\n",
    "# Implement this\n",
    "\n",
    "\n",
    "plt.show()"
   ]
  },
  {
   "cell_type": "code",
   "execution_count": null,
   "id": "82af4d49",
   "metadata": {},
   "outputs": [],
   "source": [
    "## Figure 2: Compute and plot the spectrogram of the whole signal into a new figure.\n",
    "## Denote x-axis as frame number and y-axis as Frequency in Hz\n",
    "## Set appropriate strings to title, xlabel and ylabel\n",
    "\n",
    "#fig, axes = plt.subplots(nrows=1, ncols=1, figsize=(8, 3))\n",
    "#fig.tight_layout()\n",
    "\n",
    "plt.figure(1)\n",
    "\n",
    "\n",
    "plt.show()"
   ]
  },
  {
   "cell_type": "markdown",
   "id": "98cd8970",
   "metadata": {},
   "source": [
    "## Answer these quetions:\n",
    "\n",
    "1. Change the frame_length_ms. Then, explain how shape of the frame_matrix changes (frame matrix shape = frame length in samples X number of frames). Why? Also, explain how each plot changes? Why?\n",
    "\n",
    "2. Change the hop_length_ms. Then, explain how shape of the frame_matrix changes (frame matrix shape = frame length in samples X number of frames). Why? Also, explain how each plot changes? Why?\n",
    "\n",
    "3. Change the value of n (number of fft points) in np.fft.rfft function and explain how this parameter affect the magnitude spectrum and spectogram? Why?\n",
    "\n",
    "4. Record a new sound sample with Fs=32000 and explain how each plot changes? Why? (Note that you don't need to submit the plots and sound recorded at this sampling rate. Only do one new round of experiment with Fs=32000 and answer this question.)"
   ]
  },
  {
   "cell_type": "code",
   "execution_count": null,
   "id": "3774d8af",
   "metadata": {},
   "outputs": [],
   "source": []
  }
 ],
 "metadata": {
  "kernelspec": {
   "display_name": "Python 3 (ipykernel)",
   "language": "python",
   "name": "python3"
  },
  "language_info": {
   "codemirror_mode": {
    "name": "ipython",
    "version": 3
   },
   "file_extension": ".py",
   "mimetype": "text/x-python",
   "name": "python",
   "nbconvert_exporter": "python",
   "pygments_lexer": "ipython3",
   "version": "3.8.17"
  }
 },
 "nbformat": 4,
 "nbformat_minor": 5
}
